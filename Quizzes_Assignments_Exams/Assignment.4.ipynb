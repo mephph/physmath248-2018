{
 "cells": [
  {
   "cell_type": "markdown",
   "metadata": {},
   "source": [
    "# Homework Assignment 4\n",
    "\n",
    "#### Due: Friday April 6th, 11:59pm.\n",
    "\n",
    "Save your file in **mp248/Assignment.4/Assignment.4.ipynb** on your Bitbucket repository.\n",
    "\n",
    "Problems 1 and 2 respectively ask you to make plots related to the dynamics of a single pendulum and double pendulum, from *Dynamic.plots.1.ipynb* and *Dynamic.plots.2.ipynb*. "
   ]
  },
  {
   "cell_type": "markdown",
   "metadata": {},
   "source": [
    "#### Problem 1:\n",
    "\n",
    "(a) In *Dynamic.plots.1.ipynb* the single pendulum differential equation had the two system constants, $a \\geq 0$ is what we called the *friction constant*, and $b > 0$ is the *mass/gravity constant*.  The differential equation had the form $\\theta'' + a \\theta' + b \\sin \\theta = 0$.   The *total energy* of the system is\n",
    "\n",
    "$$E_{tot} = (\\theta')^2 + 2b -2b\\cos\\theta.$$\n",
    "\n",
    "For a simulation of the ODE to be accurate, the total energy of the system should dissipate according to the heat loss through friction. Thus we should have equality\n",
    "\n",
    "$$\\frac{dE}{dt} = -2a(\\theta')^2$$\n",
    "\n",
    "We call the right hand side of this equation the *theoretical power loss of the system*. If $E(t_i)$ represents the actual total energy of the system at time $t_i$, then the *actual power loss (change) between frames* $t_i$ and $t_{i+1}$ would be the quantity $\\frac{E(t_{i+1})-E(t_i)}{t_{i+1} - t_i} = \\frac{\\Delta E}{\\Delta t}$. \n",
    "\n",
    "For the system with $a=0.1$, $b=1$, $\\theta_0 = 0$ and $\\theta'_0=10$, create a plot with one slider controlling the time step.  In your plot, show $\\theta(t)$ as a function of time. In a dynamic text field (in your plot with the slider) present the maximum (absolute value) of the difference between the theoretical $-2a(\\theta')^2$ power loss and the actual power loss $\\frac{\\Delta E}{\\Delta t}$ between frames of the animation.  Call this quantity the power-loss-deviation (PLD) of the simulation, i.e. in your plot you should have a dynamic text field \"MAX PLD: number\". \n",
    "\n",
    "Ensure your time interval is long enough so that one can see the pendulum coming to rest (let's define this to be $E_{tot}(t_i) < 0.1$) for $t_i$ at the end of your interval.  \n",
    "\n",
    "(b) Determine the how small $\\Delta t$ needs to be to ensure the maximum PLD is less than *1.0*. \n",
    "\n",
    "(c) A properly simulated solution to this differential equation has a horizontal asymptote an integer multiple of $2\\pi$.  How small does $\\Delta t$ need to be to discover the correct asymptote, and what is the asymptote?\n",
    "\n",
    "For parts (b) and (c) you should be using the tool you built (i.e. the dynamic plot) in part (a)."
   ]
  },
  {
   "cell_type": "code",
   "execution_count": null,
   "metadata": {},
   "outputs": [],
   "source": [
    "\n"
   ]
  },
  {
   "cell_type": "markdown",
   "metadata": {},
   "source": []
  },
  {
   "cell_type": "markdown",
   "metadata": {},
   "source": [
    "#### Problem 2: \n",
    "\n",
    "We roughly repeat Problem 1, but for the double pendulum.  For this problem we ask you to extend the code from *Dynamic.plots.2.ipynb*.\n",
    "\n",
    "(a) Make a plot of $\\theta_1$ and $\\theta_2$ vs. $t$ for the double pendulum with initial conditions \n",
    "$$ \\theta_1(0) = \\pi \\hskip 1cm \\theta_2(0) = 0$$\n",
    "$$ \\theta_1'(0) = 0 \\hskip 1cm \\theta_2'(0) = 10$$\n",
    "$$m_1 = 1 \\hskip 1cm m_2 = 1$$\n",
    "$$r_1 = 1 \\hskip 1cm r_2 = 1$$\n",
    "$$k_1 = 0.1 \\hskip 1cm k_2 = 0.1$$\n",
    "$$ g = 10$$\n",
    "\n",
    "Have a slider that controls the number of steps in the numerical integration.   Have your plot run long-enough so that the asymptotic behaviour of $\\theta_1$ and $\\theta_2$ is apparent, in particular both trend towards integer multiples of $2 \\pi$.\n",
    "\n",
    "(b) How small does $\\Delta t$ need to be to see this asymptotic behaviour reliably, and what are the integer multiples for $\\theta_1$ and $\\theta_2$ respectively? \n"
   ]
  },
  {
   "cell_type": "code",
   "execution_count": null,
   "metadata": {},
   "outputs": [],
   "source": []
  },
  {
   "cell_type": "code",
   "execution_count": null,
   "metadata": {},
   "outputs": [],
   "source": []
  },
  {
   "cell_type": "code",
   "execution_count": null,
   "metadata": {},
   "outputs": [],
   "source": []
  },
  {
   "cell_type": "code",
   "execution_count": null,
   "metadata": {},
   "outputs": [],
   "source": []
  },
  {
   "cell_type": "code",
   "execution_count": null,
   "metadata": {},
   "outputs": [],
   "source": [
    "\n",
    "    "
   ]
  },
  {
   "cell_type": "code",
   "execution_count": null,
   "metadata": {},
   "outputs": [],
   "source": []
  },
  {
   "cell_type": "markdown",
   "metadata": {},
   "source": [
    "$\\theta_1$ trends to $0\\pi$ and $\\theta_2$ trends to $2\\pi$, provided $\\Delta t < 40/3000$. "
   ]
  },
  {
   "cell_type": "markdown",
   "metadata": {},
   "source": [
    "#### Problem 3: \n",
    "\n",
    "We want to analyze and model the wave data from Lab 3 in Part I in more detail. Read the data as you did in Lab 3. The data has now changed because we are at a different date. Recall that each row contains a number of quantaties for each hour of each day over the past three weeks. Here we are interested in the distrubution of wind speeds and if and how they correlate with wave heights.\n",
    "\n",
    "**3.1**\n",
    "\n",
    "Read the data and make a histogram of the wind speed using $n = 10$ bins. Print a formatted statement specifying the mean of the wind speed distribution."
   ]
  },
  {
   "cell_type": "code",
   "execution_count": null,
   "metadata": {},
   "outputs": [],
   "source": []
  },
  {
   "cell_type": "code",
   "execution_count": 124,
   "metadata": {},
   "outputs": [],
   "source": []
  },
  {
   "cell_type": "code",
   "execution_count": null,
   "metadata": {},
   "outputs": [],
   "source": []
  },
  {
   "cell_type": "markdown",
   "metadata": {},
   "source": [
    "**3.2**\n",
    "\n",
    "Normalize the data so that the integral of the histogram is unity. Fit the normalized wind speed distribution with a the probability density function of a standard normal distribution. Plot the normalized data and the probability density function."
   ]
  },
  {
   "cell_type": "code",
   "execution_count": null,
   "metadata": {},
   "outputs": [],
   "source": []
  },
  {
   "cell_type": "code",
   "execution_count": null,
   "metadata": {},
   "outputs": [],
   "source": []
  },
  {
   "cell_type": "code",
   "execution_count": null,
   "metadata": {},
   "outputs": [],
   "source": []
  },
  {
   "cell_type": "markdown",
   "metadata": {},
   "source": [
    "**3.3**\n",
    "\n",
    "Plot the wave height vs. wind speed. Using your own Pearson's r coefficient function determine that coefficient for the data sets wind speed and waveheight. A simply model may predict that once the wind starts increasing it may take a while for the wave height to follow. Modify your plot of wave height vs. wind speed so that it can apply an `hour_offset` so that you plot the wave height at `t + hour_offset` vs. windspeed at time `t` (remember that in the data file the latest measurements are in the top row and following rows go backward in time). "
   ]
  },
  {
   "cell_type": "code",
   "execution_count": null,
   "metadata": {},
   "outputs": [],
   "source": []
  },
  {
   "cell_type": "code",
   "execution_count": null,
   "metadata": {},
   "outputs": [],
   "source": []
  },
  {
   "cell_type": "code",
   "execution_count": null,
   "metadata": {},
   "outputs": [],
   "source": []
  },
  {
   "cell_type": "markdown",
   "metadata": {},
   "source": [
    "**3.4**\n",
    "\n",
    "Determine Pearson's r coefficient for `hour_offset` in the range `[0,10]`. Plot Pearson's r coefficient against `hour_offset`. Overplot a least-square fit of a $4^{th}$ order polynomial. Print a formatted sentence that states the value of the `hour_offset` for the maximum correlation between wave height vs. wind speed. (Do not read off the maximum, but use a an expression that will alway print the right off set no matter what the data set is. Remember it changes every day!)."
   ]
  },
  {
   "cell_type": "code",
   "execution_count": null,
   "metadata": {},
   "outputs": [],
   "source": []
  },
  {
   "cell_type": "code",
   "execution_count": null,
   "metadata": {},
   "outputs": [],
   "source": []
  },
  {
   "cell_type": "code",
   "execution_count": null,
   "metadata": {},
   "outputs": [],
   "source": []
  },
  {
   "cell_type": "code",
   "execution_count": null,
   "metadata": {},
   "outputs": [],
   "source": []
  },
  {
   "cell_type": "code",
   "execution_count": null,
   "metadata": {},
   "outputs": [],
   "source": []
  }
 ],
 "metadata": {
  "kernelspec": {
   "display_name": "Python 3",
   "language": "python",
   "name": "python3"
  },
  "language_info": {
   "codemirror_mode": {
    "name": "ipython",
    "version": 3
   },
   "file_extension": ".py",
   "mimetype": "text/x-python",
   "name": "python",
   "nbconvert_exporter": "python",
   "pygments_lexer": "ipython3",
   "version": "3.5.2"
  }
 },
 "nbformat": 4,
 "nbformat_minor": 2
}
