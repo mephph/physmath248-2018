{
 "cells": [
  {
   "cell_type": "markdown",
   "metadata": {},
   "source": [
    "## Quiz 4 -- Practice Final Exam -- Solutions\n",
    "\n",
    "This is the final exam from 2016.  It was originally a 3 hour exam.  We will give you 80 minutes in class -- this should be enough time to get started on the problem and to give you a sense for how you need to pace yourself.  Solutions will be posted on Monday night, once the grading script has stopped at **11:59pm**. Feel free to finish the exam during the day, and compare your answers with the solution key. \n",
    "\n",
    "**Instructions** You are encouraged to use any material from the course, such as your own work and class notebooks. You are also free to use standard on-line resources such as Python reference manuals.  You must do all the work on your own, i.e. no consulting with fellow students or with people on-line.  Once you have completed your exam, push your notebook to your BitBucket repository. Store this quiz in **mp248/Quizzes/Quiz.4.ipynb**. \n",
    "\n",
    "**This will be graded only as a small task** and it will be graded by a script only, so the grading will be incomplete.  Check your feedback in CourseSpaces to see how your progress is evaluated."
   ]
  },
  {
   "cell_type": "markdown",
   "metadata": {},
   "source": [
    "**Final Exam Problem Setup**\n",
    "\n",
    "We have two billiard balls $A$ and $B$, constrained to move along a frictionless line $x \\geq 0$. There is no gravity.  At position $x=0$ is an immovable elastic wall.  Billiard $A$ has mass $m_A$. Billiard $B$ has mass $m_B$.\n",
    "\n",
    "<img src=\"F.Q1.Setup.png\" /img>\n",
    "\n",
    "The initial position of billard $A$ is $x=1$. The initial position of billiard $B$ is at $x=2$. \n",
    "\n",
    "As the wall is completely elastic, when billiard $A$ collides with the wall, its velocity instantaneously reverses, i.e. $v_A' = - v_A$. *Here the prime indicates the velocity after the collision, not the derivative*. \n",
    "\n",
    "When billiard $A$ and $B$ collide, the new velocity of billiard $A$ and $B$ are given by:\n",
    "\n",
    "$$v_A' = \\frac{m_A-m_B}{m_A+m_B}v_A + \\frac{2m_B}{m_A+m_B}v_B$$\n",
    "$$v_B' = \\frac{m_B-m_A}{m_A+m_B}v_B + \\frac{2m_A}{m_A+m_B}v_A$$\n",
    "\n",
    "Thus provided $m_B > m_A$ billiard $A$ with undergo a sequence of velocity sign changes as it collides with billiard $B$ and the wall, in succession, until billiard $B$ escapes (to the right) at a larger velocity than billiard $A$. "
   ]
  },
  {
   "cell_type": "markdown",
   "metadata": {},
   "source": [
    "**Problem 1:**\n",
    "\n",
    "Write an algorithm that takes as input the initial velocity of billiard $A$, $B$, and the masses\n",
    "of billiards $A$ and $B$ respectively.  The output will be a pair $(c_1,c_2)$ where $c_1$ is the number of  collisions billiard $A$ makes with the wall, and $c_2$ is the number of collisions billiard $A$ makes with billiard $B$, before $B$ escapes to the right. \n",
    " \n",
    "<img src=\"F.Q1.Context.png\" /img>\n",
    "\n",
    "Note, the radius of the billiards is not relevant for any of the problems in this notebook. "
   ]
  },
  {
   "cell_type": "code",
   "execution_count": 1,
   "metadata": {},
   "outputs": [
    {
     "name": "stdout",
     "output_type": "stream",
     "text": [
      "(1, 2)\n",
      "(5, 5)\n",
      "(15, 16)\n",
      "(49, 50)\n",
      "(157, 157)\n",
      "(496, 497)\n"
     ]
    }
   ],
   "source": [
    "## returns pair collisions with wall, collisions of balls. \n",
    "def collCount( va, vb, ma, mb ):\n",
    "    varr = [ [va, vb] ]\n",
    "    ## loop until \"escape\" which is vb>=va>=0\n",
    "    while (va < 0.0) or (vb<va):\n",
    "        ## decide which collision type.\n",
    "        if (va<0.0):\n",
    "            va = -va\n",
    "        else:\n",
    "            nva = (ma-mb)*va/(ma+mb) + (2.0*mb*vb)/(ma+mb)\n",
    "            nvb = (mb-ma)*vb/(ma+mb) + (2.0*ma*va)/(ma+mb)\n",
    "            va = nva\n",
    "            vb = nvb\n",
    "        varr.append( [va, vb] )\n",
    "    ca, cb = 0, 0\n",
    "    ## collisions are separators between varr elements, so let's ignore the last element\n",
    "    for i in range(len(varr)-1):\n",
    "        if varr[i][0]<0.0:\n",
    "            ca += 1\n",
    "        else:\n",
    "            cb += 1\n",
    "    return ca, cb\n",
    "\n",
    "for i in range(6):\n",
    "    mb = 10**i\n",
    "    print(collCount(0.0, -1.0, 1.0, mb))\n"
   ]
  },
  {
   "cell_type": "markdown",
   "metadata": {},
   "source": [
    "**Problem 2: **\n",
    "\n",
    "For $m_A=1$ and $m_B = 10^2, 10^4, 10^6, \\cdots $, let the initial velocity of \n",
    "billiard $A$ be zero and the initial velocity of billiard $B$ be $-1$. \n",
    "\n",
    "Print out: \n",
    "\n",
    "    a) The number of collisions of A with the wall. \n",
    "    b) The number of collisions of B with A. \n",
    "    c) The total number of collisions of all types, i.e. (a)+(b). "
   ]
  },
  {
   "cell_type": "code",
   "execution_count": 2,
   "metadata": {},
   "outputs": [
    {
     "name": "stdout",
     "output_type": "stream",
     "text": [
      "mb == 10^0 ca 1 cb 2 tot 3\n",
      "mb == 10^2 ca 15 cb 16 tot 31\n",
      "mb == 10^4 ca 157 cb 157 tot 314\n",
      "mb == 10^6 ca 1570 cb 1571 tot 3141\n",
      "mb == 10^8 ca 15707 cb 15708 tot 31415\n",
      "mb == 10^10 ca 157079 cb 157080 tot 314159\n",
      "mb == 10^12 ca 1570796 cb 1570796 tot 3141592\n"
     ]
    }
   ],
   "source": [
    "for i in range(7):\n",
    "    mb = 10**(2*i)\n",
    "    ca, cb = collCount(0.0, -1.0, 1.0, mb)\n",
    "    print(\"mb == 10^\", 2*i, ' ca ', ca, ' cb ', cb, ' tot ', ca+cb, sep='')"
   ]
  },
  {
   "cell_type": "markdown",
   "metadata": {
    "collapsed": true
   },
   "source": [
    "You should begin to see a pattern in your answer to Problem 2. \n",
    "\n",
    "**Problem 3: **\n",
    "\n",
    "Infer a function $f(m_B)$ so that the limit\n",
    "\n",
    "$$\\lim_{m_B \\to \\infty} \\frac{coll(m_B)}{f(m_B)} = L$$\n",
    "\n",
    "exists, with $L \\neq 0$.  \n",
    "\n",
    "$coll(m_B)$ is the sum of the number of collisions between $A$ and $B$, as well as $A$ and the wall, i.e. the answer to 2(c). "
   ]
  },
  {
   "cell_type": "code",
   "execution_count": 3,
   "metadata": {},
   "outputs": [
    {
     "name": "stdout",
     "output_type": "stream",
     "text": [
      "mb == 10^0 tot/f 3.0\n",
      "mb == 10^2 tot/f 3.1\n",
      "mb == 10^4 tot/f 3.14\n",
      "mb == 10^6 tot/f 3.141\n",
      "mb == 10^8 tot/f 3.1415\n",
      "mb == 10^10 tot/f 3.14159\n",
      "mb == 10^12 tot/f 3.141592\n"
     ]
    }
   ],
   "source": [
    "import math as ma\n",
    "## f(x) = sqrt(x)\n",
    "\n",
    "for i in range(7):\n",
    "    mb = 10**(2*i)\n",
    "    ca, cb = collCount(0.0, -1.0, 1.0, mb)\n",
    "    print(\"mb == 10^\", 2*i, ' tot/f ', (ca+cb)/ma.sqrt(mb), sep='')"
   ]
  },
  {
   "cell_type": "markdown",
   "metadata": {},
   "source": [
    "**Problem 4: **\n",
    "\n",
    "To demonstrate how quickly $coll(m_B)/f(m_B)$ converges to $L$, create a plot consisting of:\n",
    "\n",
    "    1) A horizontal line at height L. \n",
    "    2) coll(m_B)/f(m_B) for m_B=1, 10, 10^2, 10^3, 10^4, 10^5, 10^6. \n",
    "\n",
    "Perhaps your x-coordinate should be $n$ where $m_B=10^n$.  Make the horizontal line (1) a different colour from (2)."
   ]
  },
  {
   "cell_type": "code",
   "execution_count": 10,
   "metadata": {},
   "outputs": [
    {
     "data": {
      "text/plain": [
       "[<matplotlib.lines.Line2D at 0x7f5ba33fcf28>]"
      ]
     },
     "execution_count": 10,
     "metadata": {},
     "output_type": "execute_result"
    },
    {
     "data": {
      "image/png": "[encoded data removed]",
      "text/plain": [
       "<matplotlib.figure.Figure at 0x7f5ba75a8780>"
      ]
     },
     "metadata": {},
     "output_type": "display_data"
    }
   ],
   "source": [
    "import matplotlib.pyplot as plt\n",
    "%matplotlib inline\n",
    "\n",
    "x = [i for i in range(12)]\n",
    "y = [sum(collCount(0.0, -1.0, 1.0, 10**xi))/ma.sqrt(10**xi) for xi in x]\n",
    "\n",
    "plt.plot(x,y, 'ro')\n",
    "plt.plot([x[0], x[-1]], [ma.pi, ma.pi])"
   ]
  },
  {
   "cell_type": "markdown",
   "metadata": {},
   "source": [
    "**Problem 5:**\n",
    "\n",
    "Write an algorithm that takes as input any initial masses, positions and initial velocities and outputs a (matplotlib) plot like the one below, which depicts the path both mass $A$ and $B$ take, including all collisions. \n",
    "\n",
    "<img src=\"F.Q1.Context.png\" /img>\n",
    "\n",
    "Execute and include the output from the case $v_a = 0.0, v_b = -1.0, m_a=1.0, m_b=10.0$.\n"
   ]
  },
  {
   "cell_type": "code",
   "execution_count": 18,
   "metadata": {},
   "outputs": [
    {
     "data": {
      "text/plain": [
       "[<matplotlib.lines.Line2D at 0x7f5ba923fc18>]"
      ]
     },
     "execution_count": 18,
     "metadata": {},
     "output_type": "execute_result"
    },
    {
     "data": {
      "image/png": "[encoded data removed]",
      "text/plain": [
       "<matplotlib.figure.Figure at 0x7f5ba92a5198>"
      ]
     },
     "metadata": {},
     "output_type": "display_data"
    }
   ],
   "source": [
    "## returns list of positions and times, I suppose. \n",
    "## tlist, xalist, xblist. \n",
    "def collPos( va, vb, ma, mb ):\n",
    "    varr = [ [va, vb] ]\n",
    "    tl = [0.0]\n",
    "    xal = [1.0]\n",
    "    xbl = [2.0]\n",
    "    \n",
    "    ## loop until \"escape\" which is vb>=va>=0\n",
    "    while (va < 0.0) or (vb<va):\n",
    "        ## decide which collision type.\n",
    "        if (va<0.0):\n",
    "            dt = -xal[-1]/va\n",
    "            tl.append(tl[-1] + dt)\n",
    "            xal.append(xal[-1] + dt*va)\n",
    "            xbl.append(xbl[-1] + dt*vb)\n",
    "            \n",
    "            va = -va\n",
    "        else:\n",
    "            dt = (xbl[-1]-xal[-1])/(va-vb)\n",
    "            tl.append(tl[-1] + dt)\n",
    "            xal.append(xal[-1] + dt*va)\n",
    "            xbl.append(xbl[-1] + dt*vb)\n",
    "            \n",
    "            nva = (ma-mb)*va/(ma+mb) + (2.0*mb*vb)/(ma+mb)\n",
    "            nvb = (mb-ma)*vb/(ma+mb) + (2.0*ma*va)/(ma+mb)\n",
    "            va = nva\n",
    "            vb = nvb\n",
    "        varr.append( [va, vb] )\n",
    "        \n",
    "    ## throw in one more location and time...\n",
    "    dt=tl[-1]-tl[-2]\n",
    "    tl.append(tl[-1] + dt)\n",
    "    xal.append(xal[-1] + dt*va)\n",
    "    xbl.append(xbl[-1] + dt*vb)\n",
    "\n",
    "    return tl, xal, xbl\n",
    "\n",
    "tl, xal, xbl = collPos( 0.0, -1.0, 1.0, 10 )\n",
    "plt.plot( xal, tl, 'r-')\n",
    "plt.plot( xbl, tl, 'g-')\n",
    "plt.plot([0.0, 0.0], [min(tl), max(tl)], 'b-')"
   ]
  },
  {
   "cell_type": "code",
   "execution_count": null,
   "metadata": {},
   "outputs": [],
   "source": []
  }
 ],
 "metadata": {
  "anaconda-cloud": {},
  "kernelspec": {
   "display_name": "Python 3",
   "language": "python",
   "name": "python3"
  },
  "language_info": {
   "codemirror_mode": {
    "name": "ipython",
    "version": 3
   },
   "file_extension": ".py",
   "mimetype": "text/x-python",
   "name": "python",
   "nbconvert_exporter": "python",
   "pygments_lexer": "ipython3",
   "version": "3.5.2"
  }
 },
 "nbformat": 4,
 "nbformat_minor": 1
}
