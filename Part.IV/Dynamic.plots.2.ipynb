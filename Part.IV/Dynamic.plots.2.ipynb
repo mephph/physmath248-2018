{
 "cells": [
  {
   "cell_type": "markdown",
   "metadata": {},
   "source": [
    "## Double pendulum\n",
    "\n",
    "ODE is quite complicated.  Difficult to derive by hands, easy to make typos. \n",
    "\n",
    "Have the computer derive the ODE. \n",
    "\n",
    "We will use Lagrangian mechanics: coordinate-independent way to writing the ODEs of Newtonian mechanics.  In mathematics the closest subject would be called \"Differential Geometry\". \n",
    "\n",
    "$$ L = T - V $$\n",
    "\n",
    "$L$ is called the *Lagrangian*.  $T$ kinetic energy, $V$ potential energy. \n",
    "\n",
    "$$-\\frac{\\partial L}{\\partial \\theta_i} + \\frac{\\partial R}{\\partial w_i} + \\frac{\\partial^2 L}{\\partial t \\partial w_i} = 0 \\ \\ \\ i = 1, 2$$\n"
   ]
  },
  {
   "cell_type": "markdown",
   "metadata": {},
   "source": [
    "$w_i = \\theta_i'$, i.e. $w_i = \\frac{\\partial \\theta_i}{\\partial t}$. \n",
    "\n",
    "$R$ *Rayeleigh dissipation term* this is our term that deals with friction. \n"
   ]
  },
  {
   "cell_type": "code",
   "execution_count": 68,
   "metadata": {},
   "outputs": [],
   "source": [
    "import sympy as sp\n",
    "\n",
    "m1, m2, k1, k2, r1, r2, g, t = sp.symbols(\"m_1 m_2 k_1 k_2 r_1 r_2 g t\")\n",
    "## theta_i we give symbol ti\n",
    "t1 = sp.Function(\"θ_1\")(t)\n",
    "t2 = sp.Function(\"θ_2\")(t)\n",
    "w1 = sp.Derivative(t1, t)\n",
    "w2 = sp.Derivative(t2, t)\n",
    "\n",
    "ti = sp.Function(\"θ_i\")(t)\n",
    "wi = sp.Derivative(ti, t)\n",
    "\n",
    "R = sp.Function(\"R\")\n",
    "L = sp.Function(\"L\")\n",
    "\n",
    "T, V = sp.symbols(\"T V\")"
   ]
  },
  {
   "cell_type": "code",
   "execution_count": 73,
   "metadata": {},
   "outputs": [
    {
     "name": "stdout",
     "output_type": "stream",
     "text": [
      "                          2                         2                         \n",
      "             2 ⎛d        ⎞             2 ⎛d        ⎞                          \n",
      "T = 0.5⋅m₁⋅r₁ ⋅⎜──(θ₁(t))⎟  + 0.5⋅m₂⋅r₁ ⋅⎜──(θ₁(t))⎟  + m₂⋅r₁⋅r₂⋅cos(θ₁(t) - θ\n",
      "               ⎝dt       ⎠               ⎝dt       ⎠                          \n",
      "\n",
      "                                                  2\n",
      "      d         d                    2 ⎛d        ⎞ \n",
      "₂(t))⋅──(θ₁(t))⋅──(θ₂(t)) + 0.5⋅m₂⋅r₂ ⋅⎜──(θ₂(t))⎟ \n",
      "      dt        dt                     ⎝dt       ⎠ \n"
     ]
    }
   ],
   "source": [
    "Teq = sp.Eq(T, (1/2)*m1*r1**2*w1**2 + \\\n",
    "            m2*r1*r2*w1*w2*sp.cos(t1-t2)+ \\\n",
    "            (1/2)*m2*r1**2*w1**2+ \\\n",
    "            (1/2)*m2*r2**2*w2**2)\n",
    "## we forgot the 3rd term in class!\n",
    "sp.pprint(Teq)"
   ]
  },
  {
   "cell_type": "code",
   "execution_count": 74,
   "metadata": {},
   "outputs": [
    {
     "name": "stdout",
     "output_type": "stream",
     "text": [
      "V = -g⋅m₁⋅r₁⋅cos(θ₁(t)) - g⋅m₂⋅(r₁⋅cos(θ₁(t)) + r₂⋅cos(θ₂(t)))\n"
     ]
    }
   ],
   "source": [
    "Veq = sp.Eq(V, -m1*g*r1*sp.cos(t1) - \\\n",
    "            m2*g*(r1*sp.cos(t1)+r2*sp.cos(t2)))\n",
    "sp.pprint(Veq)"
   ]
  },
  {
   "cell_type": "code",
   "execution_count": 75,
   "metadata": {},
   "outputs": [
    {
     "name": "stdout",
     "output_type": "stream",
     "text": [
      "Lagrangian\n",
      "                                                                              \n",
      "                                                                         2 ⎛d \n",
      "L = g⋅m₁⋅r₁⋅cos(θ₁(t)) + g⋅m₂⋅(r₁⋅cos(θ₁(t)) + r₂⋅cos(θ₂(t))) + 0.5⋅m₁⋅r₁ ⋅⎜──\n",
      "                                                                           ⎝dt\n",
      "\n",
      "        2                         2                                           \n",
      "       ⎞             2 ⎛d        ⎞                                d         d \n",
      "(θ₁(t))⎟  + 0.5⋅m₂⋅r₁ ⋅⎜──(θ₁(t))⎟  + m₂⋅r₁⋅r₂⋅cos(θ₁(t) - θ₂(t))⋅──(θ₁(t))⋅──\n",
      "       ⎠               ⎝dt       ⎠                                dt        dt\n",
      "\n",
      "                                2\n",
      "                   2 ⎛d        ⎞ \n",
      "(θ₂(t)) + 0.5⋅m₂⋅r₂ ⋅⎜──(θ₂(t))⎟ \n",
      "                     ⎝dt       ⎠ \n"
     ]
    }
   ],
   "source": [
    "## lagrangian\n",
    "\n",
    "Leq = sp.Eq(L, Teq.args[1] - Veq.args[1])\n",
    "print(\"Lagrangian\")\n",
    "sp.pprint(Leq)"
   ]
  },
  {
   "cell_type": "code",
   "execution_count": 76,
   "metadata": {},
   "outputs": [
    {
     "name": "stdout",
     "output_type": "stream",
     "text": [
      "                      2                                   2\n",
      "           ⎛d        ⎞           ⎛  d           d        ⎞ \n",
      "R = 0.5⋅k₁⋅⎜──(θ₁(t))⎟  + 0.5⋅k₂⋅⎜- ──(θ₁(t)) + ──(θ₂(t))⎟ \n",
      "           ⎝dt       ⎠           ⎝  dt          dt       ⎠ \n"
     ]
    }
   ],
   "source": [
    "Req = sp.Eq(R, (1/2)*k1*w1**2 + (1/2)*k2*(w2-w1)**2)\n",
    "sp.pprint(Req)"
   ]
  },
  {
   "cell_type": "markdown",
   "metadata": {},
   "source": [
    "## Lagrange equations of motion\n",
    "$$-\\frac{\\partial L}{\\partial \\theta_i} + \\frac{\\partial R}{\\partial w_i} + \\frac{\\partial^2 L}{\\partial t \\partial w_i} = 0 \\ \\ \\ i = 1, 2$$"
   ]
  },
  {
   "cell_type": "code",
   "execution_count": 77,
   "metadata": {},
   "outputs": [],
   "source": [
    "## i = 1\n",
    "LEM1 = (-sp.Derivative(Leq.args[1], t1) +\\\n",
    "        sp.Derivative(Req.args[1], w1) + sp.Derivative(Leq.args[1], w1, t)).doit().simplify()\n",
    "LEM2 = (-sp.Derivative(Leq.args[1], t2) +\\\n",
    "        sp.Derivative(Req.args[1], w2) + sp.Derivative(Leq.args[1], w2, t)).doit().simplify()"
   ]
  },
  {
   "cell_type": "code",
   "execution_count": 78,
   "metadata": {},
   "outputs": [
    {
     "name": "stdout",
     "output_type": "stream",
     "text": [
      "                                                                              \n",
      "                                                         d                  d \n",
      "1.0⋅g⋅m₁⋅r₁⋅sin(θ₁(t)) + 1.0⋅g⋅m₂⋅r₁⋅sin(θ₁(t)) + 1.0⋅k₁⋅──(θ₁(t)) + 1.0⋅k₂⋅──\n",
      "                                                         dt                 dt\n",
      "                                                                              \n",
      "\n",
      "                                          2                       2           \n",
      "                 d                    2  d                    2  d            \n",
      "(θ₁(t)) - 1.0⋅k₂⋅──(θ₂(t)) + 1.0⋅m₁⋅r₁ ⋅───(θ₁(t)) + 1.0⋅m₂⋅r₁ ⋅───(θ₁(t)) + 1\n",
      "                 dt                       2                       2           \n",
      "                                        dt                      dt            \n",
      "\n",
      "                                          2                                   \n",
      "                               ⎛d        ⎞                                    \n",
      ".0⋅m₂⋅r₁⋅r₂⋅sin(θ₁(t) - θ₂(t))⋅⎜──(θ₂(t))⎟  + 1.0⋅m₂⋅r₁⋅r₂⋅cos(θ₁(t) - θ₂(t))⋅\n",
      "                               ⎝dt       ⎠                                    \n",
      "                                                                              \n",
      "\n",
      "  2       \n",
      " d        \n",
      "───(θ₂(t))\n",
      "  2       \n",
      "dt        \n"
     ]
    }
   ],
   "source": [
    "sp.pprint(LEM1)"
   ]
  },
  {
   "cell_type": "code",
   "execution_count": 79,
   "metadata": {},
   "outputs": [
    {
     "name": "stdout",
     "output_type": "stream",
     "text": [
      "                                                                              \n",
      "                                d                  d                          \n",
      "1.0⋅g⋅m₂⋅r₂⋅sin(θ₂(t)) - 1.0⋅k₂⋅──(θ₁(t)) + 1.0⋅k₂⋅──(θ₂(t)) - 1.0⋅m₂⋅r₁⋅r₂⋅si\n",
      "                                dt                 dt                         \n",
      "                                                                              \n",
      "\n",
      "                            2                                     2           \n",
      "                 ⎛d        ⎞                                     d            \n",
      "n(θ₁(t) - θ₂(t))⋅⎜──(θ₁(t))⎟  + 1.0⋅m₂⋅r₁⋅r₂⋅cos(θ₁(t) - θ₂(t))⋅───(θ₁(t)) + 1\n",
      "                 ⎝dt       ⎠                                      2           \n",
      "                                                                dt            \n",
      "\n",
      "            2       \n",
      "        2  d        \n",
      ".0⋅m₂⋅r₂ ⋅───(θ₂(t))\n",
      "            2       \n",
      "          dt        \n"
     ]
    }
   ],
   "source": [
    "sp.pprint(LEM2)"
   ]
  },
  {
   "cell_type": "code",
   "execution_count": 80,
   "metadata": {},
   "outputs": [
    {
     "name": "stdout",
     "output_type": "stream",
     "text": [
      "⎧                 ⎛                                                           \n",
      "⎪                 ⎜                        d              d                   \n",
      "⎪  2         - r₁⋅⎜g⋅m₂⋅r₂⋅sin(θ₂(t)) - k₂⋅──(θ₁(t)) + k₂⋅──(θ₂(t)) - m₂⋅r₁⋅r₂\n",
      "⎨ d               ⎝                        dt             dt                  \n",
      "⎪───(θ₁(t)): ─────────────────────────────────────────────────────────────────\n",
      "⎪  2                                                                          \n",
      "⎩dt                                                                           \n",
      "\n",
      "                               2⎞                         ⎛                   \n",
      "                    ⎛d        ⎞ ⎟                         ⎜                   \n",
      "⋅sin(θ₁(t) - θ₂(t))⋅⎜──(θ₁(t))⎟ ⎟⋅cos(θ₁(t) - θ₂(t)) + r₂⋅⎜g⋅m₁⋅r₁⋅sin(θ₁(t)) \n",
      "                    ⎝dt       ⎠ ⎠                         ⎝                   \n",
      "──────────────────────────────────────────────────────────────────────────────\n",
      "                                          2    ⎛            2                 \n",
      "                                        r₁ ⋅r₂⋅⎝-m₁ + m₂⋅cos (θ₁(t) - θ₂(t)) -\n",
      "\n",
      "                                                                              \n",
      "                          d              d              d                     \n",
      "+ g⋅m₂⋅r₁⋅sin(θ₁(t)) + k₁⋅──(θ₁(t)) + k₂⋅──(θ₁(t)) - k₂⋅──(θ₂(t)) + m₂⋅r₁⋅r₂⋅s\n",
      "                          dt             dt             dt                    \n",
      "──────────────────────────────────────────────────────────────────────────────\n",
      "   ⎞                                                                          \n",
      " m₂⎠                                                                          \n",
      "\n",
      "                             2⎞                      ⎛                        \n",
      "                  ⎛d        ⎞ ⎟                      ⎜                        \n",
      "in(θ₁(t) - θ₂(t))⋅⎜──(θ₂(t))⎟ ⎟    2         - m₂⋅r₂⋅⎜g⋅m₁⋅r₁⋅sin(θ₁(t)) + g⋅m\n",
      "                  ⎝dt       ⎠ ⎠   d                  ⎝                        \n",
      "───────────────────────────────, ───(θ₂(t)): ─────────────────────────────────\n",
      "                                   2                                          \n",
      "                                 dt                                           \n",
      "\n",
      "                                                                              \n",
      "                     d              d              d                          \n",
      "₂⋅r₁⋅sin(θ₁(t)) + k₁⋅──(θ₁(t)) + k₂⋅──(θ₁(t)) - k₂⋅──(θ₂(t)) + m₂⋅r₁⋅r₂⋅sin(θ₁\n",
      "                     dt             dt             dt                         \n",
      "──────────────────────────────────────────────────────────────────────────────\n",
      "                                                                              \n",
      "                                                                             m\n",
      "\n",
      "                        2⎞                                   ⎛                \n",
      "             ⎛d        ⎞ ⎟                                   ⎜                \n",
      "(t) - θ₂(t))⋅⎜──(θ₂(t))⎟ ⎟⋅cos(θ₁(t) - θ₂(t)) + r₁⋅(m₁ + m₂)⋅⎜g⋅m₂⋅r₂⋅sin(θ₂(t\n",
      "             ⎝dt       ⎠ ⎠                                   ⎝                \n",
      "──────────────────────────────────────────────────────────────────────────────\n",
      "       2 ⎛            2                    ⎞                                  \n",
      "₂⋅r₁⋅r₂ ⋅⎝-m₁ + m₂⋅cos (θ₁(t) - θ₂(t)) - m₂⎠                                  \n",
      "\n",
      "                                                                          2⎞⎫\n",
      "        d              d                                       ⎛d        ⎞ ⎟⎪\n",
      ")) - k₂⋅──(θ₁(t)) + k₂⋅──(θ₂(t)) - m₂⋅r₁⋅r₂⋅sin(θ₁(t) - θ₂(t))⋅⎜──(θ₁(t))⎟ ⎟⎪\n",
      "        dt             dt                                      ⎝dt       ⎠ ⎠⎬\n",
      "────────────────────────────────────────────────────────────────────────────⎪\n",
      "                                                                            ⎪\n",
      "                                                                            ⎭\n"
     ]
    }
   ],
   "source": [
    "## solve for theta_1'' and theta_2''\n",
    "SOL = sp.solve((LEM1, LEM2), sp.Derivative(t1, t, 2), sp.Derivative(t2, t, 2))\n",
    "sp.pprint(SOL)"
   ]
  },
  {
   "cell_type": "code",
   "execution_count": 81,
   "metadata": {},
   "outputs": [],
   "source": [
    "T1pp = SOL[sp.Derivative(t1,t,2)].simplify()\n",
    "T2pp = SOL[sp.Derivative(t2,t,2)].simplify()"
   ]
  },
  {
   "cell_type": "code",
   "execution_count": 82,
   "metadata": {},
   "outputs": [
    {
     "name": "stdout",
     "output_type": "stream",
     "text": [
      "0\n"
     ]
    }
   ],
   "source": [
    "## As a test to see if these ODEs have no mistakes\n",
    "##  dE/dt = -2R\n",
    "\n",
    "test=sp.Derivative(Teq.args[1]+Veq.args[1], t).doit().simplify()\n",
    "test=test.xreplace({sp.Derivative(t1,t,2): T1pp, sp.Derivative(t2,t,2): T2pp})\n",
    "test = test.simplify()\n",
    "sp.pprint( (test + 2*Req.args[1]).simplify() )"
   ]
  },
  {
   "cell_type": "code",
   "execution_count": 83,
   "metadata": {},
   "outputs": [],
   "source": [
    "## We want to make this into a callable function of theta_1, theta_2, theta_1', theta_2'\n",
    "## and we want it to be reasonably fast. \n",
    "\n",
    "## technique 1: subst and evalf() very slow\n",
    "## technique 2: lambdify in sympy\n",
    "## technique 3 (new): is called ufuncify  -- we will use this. \n",
    "\n",
    "## first step is to replace all occurences of theta_1(t) as fcn of time with dummy variable\n",
    "## similarly replace theta_1'(t) with dummy variable\n",
    "\n",
    "w1, w2, t1, t2 = sp.symbols(\"w_1 w_2 t_1 t_2\")\n",
    "\n",
    "xT1pp = T1pp\n",
    "xT1pp = xT1pp.xreplace({sp.Derivative(sp.Function(\"θ_1\")(t), t): w1, \\\n",
    "                        sp.Derivative(sp.Function(\"θ_2\")(t), t): w2, \\\n",
    "                        sp.Function(\"θ_1\")(t): t1, \\\n",
    "                        sp.Function(\"θ_2\")(t): t2})\n",
    "xT2pp = T2pp\n",
    "xT2pp = xT2pp.xreplace({sp.Derivative(sp.Function(\"θ_1\")(t), t): w1, \\\n",
    "                        sp.Derivative(sp.Function(\"θ_2\")(t), t): w2, \\\n",
    "                        sp.Function(\"θ_1\")(t): t1, \\\n",
    "                        sp.Function(\"θ_2\")(t): t2})"
   ]
  },
  {
   "cell_type": "code",
   "execution_count": 84,
   "metadata": {},
   "outputs": [
    {
     "name": "stdout",
     "output_type": "stream",
     "text": [
      "      ⎛                                                                       \n",
      "m₂⋅r₂⋅⎝g⋅m₁⋅r₁⋅sin(t₁) + g⋅m₂⋅r₁⋅sin(t₁) + k₁⋅w₁ + k₂⋅w₁ - k₂⋅w₂ + m₂⋅r₁⋅r₂⋅w₂\n",
      "──────────────────────────────────────────────────────────────────────────────\n",
      "                                                                              \n",
      "                                                                         m₂⋅r₁\n",
      "\n",
      "2             ⎞                             ⎛                                 \n",
      " ⋅sin(t₁ - t₂)⎠⋅cos(t₁ - t₂) - r₁⋅(m₁ + m₂)⋅⎝g⋅m₂⋅r₂⋅sin(t₂) - k₂⋅w₁ + k₂⋅w₂ -\n",
      "──────────────────────────────────────────────────────────────────────────────\n",
      "   2 ⎛           2              ⎞                                             \n",
      "⋅r₂ ⋅⎝m₁ - m₂⋅cos (t₁ - t₂) + m₂⎠                                             \n",
      "\n",
      "            2             ⎞\n",
      " m₂⋅r₁⋅r₂⋅w₁ ⋅sin(t₁ - t₂)⎠\n",
      "───────────────────────────\n",
      "                           \n",
      "                           \n"
     ]
    }
   ],
   "source": [
    "sp.pprint(xT2pp)"
   ]
  },
  {
   "cell_type": "code",
   "execution_count": 85,
   "metadata": {},
   "outputs": [],
   "source": [
    "## let's make it callable\n",
    "## t1pp will be a callable function and you give it arguments\n",
    "## r1 -- distance from the first bearing to the 2nd -- 1st arm length\n",
    "## r2 -- distance from 2nd bearing to end of pendulum -- 2nd arm length\n",
    "\n",
    "from sympy.utilities.autowrap import ufuncify\n",
    "t1pp = ufuncify([r1,r2,m1,m2,k1,k2,t1,t2,w1,w2,g], xT1pp)\n",
    "t2pp = ufuncify([r1,r2,m1,m2,k1,k2,t1,t2,w1,w2,g], xT2pp)\n",
    "\n",
    "## TH = (theta1, theta2, theta1', theta2')\n",
    "\n",
    "def theODE(TH, t, r1, r2, m1, m2, k1, k2, g):\n",
    "    return [TH[2], TH[3], \\\n",
    "            t1pp(r1, r2, m1, m2, k1, k2, TH[0], TH[1], TH[2], TH[3], g), \\\n",
    "            t2pp(r1, r2, m1, m2, k1, k2, TH[0], TH[1], TH[2], TH[3], g)]"
   ]
  },
  {
   "cell_type": "code",
   "execution_count": 86,
   "metadata": {},
   "outputs": [
    {
     "name": "stdout",
     "output_type": "stream",
     "text": [
      "[0.0, 0.0, -8.4147098480789655, 0.0]\n",
      "<class 'numpy.float64'>\n"
     ]
    }
   ],
   "source": [
    "## okay, we have realistic-looking solutions. \n",
    "\n",
    "X = theODE([1.0, 1.0, 0.0, 0.0], 0.0, 1.0, 1.0, 1.0, 1.0, 0.1, 0.1, 10.0)\n",
    "print(X)\n"
   ]
  },
  {
   "cell_type": "code",
   "execution_count": null,
   "metadata": {},
   "outputs": [],
   "source": []
  }
 ],
 "metadata": {
  "kernelspec": {
   "display_name": "Python 3",
   "language": "python",
   "name": "python3"
  },
  "language_info": {
   "codemirror_mode": {
    "name": "ipython",
    "version": 3
   },
   "file_extension": ".py",
   "mimetype": "text/x-python",
   "name": "python",
   "nbconvert_exporter": "python",
   "pygments_lexer": "ipython3",
   "version": "3.5.2"
  }
 },
 "nbformat": 4,
 "nbformat_minor": 2
}
