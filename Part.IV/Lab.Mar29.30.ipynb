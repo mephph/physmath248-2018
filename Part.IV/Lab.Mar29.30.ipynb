{
 "cells": [
  {
   "cell_type": "markdown",
   "metadata": {},
   "source": [
    "## Lab -- March 29th 30th\n",
    "\n",
    "This lab is based off the *Dynamic.plots.1/2/3.ipynb* notebooks.\n",
    "\n",
    "Part (1). Create an animated plot of the double pendulum with a *trace* like in the last plot from Dynamic.plots.1.ipynb.\n",
    "\n",
    "Part (2). Create a text field in your animated plot that gives a readout of the total energy of the system, i.e. the sum of the kinetic plus potential energies.\n",
    "\n",
    "Part (3). Experiment with frictionless double pendulums.  In such a system, the total energy should be constant.  Is it constant in your simulation?  If not, experiment with ways of reducing the change in energy.  Some suggestions:\n",
    "\n",
    " (a) Try reducing your step size.\n",
    "\n",
    " (b) Try using a different numerical ODE integrator.\n",
    " \n",
    " (c) Perhaps consider adapting your ODE integrator technique to ensure the energy remains constant?\n",
    " \n",
    " (d) Can you think of anything else to try?\n",
    " "
   ]
  },
  {
   "cell_type": "code",
   "execution_count": null,
   "metadata": {},
   "outputs": [],
   "source": []
  },
  {
   "cell_type": "code",
   "execution_count": null,
   "metadata": {},
   "outputs": [],
   "source": []
  },
  {
   "cell_type": "code",
   "execution_count": null,
   "metadata": {},
   "outputs": [],
   "source": []
  },
  {
   "cell_type": "code",
   "execution_count": null,
   "metadata": {},
   "outputs": [],
   "source": []
  }
 ],
 "metadata": {
  "kernelspec": {
   "display_name": "Python 3",
   "language": "python",
   "name": "python3"
  },
  "language_info": {
   "codemirror_mode": {
    "name": "ipython",
    "version": 3
   },
   "file_extension": ".py",
   "mimetype": "text/x-python",
   "name": "python",
   "nbconvert_exporter": "python",
   "pygments_lexer": "ipython3",
   "version": "3.5.2"
  }
 },
 "nbformat": 4,
 "nbformat_minor": 2
}
